{
 "cells": [
  {
   "cell_type": "code",
   "execution_count": 4,
   "id": "a1a4f9b0",
   "metadata": {},
   "outputs": [],
   "source": [
    "import os\n",
    "import cv2\n",
    "\n",
    "input_floder = input_floder = 'data/test/images'  #--------------------\n",
    "output_floder = 'data_raw_resized'   #--------------------\n",
    "scale_percent = 30   #--------------------\n",
    "\n",
    "if not os.path.exists(output_floder):\n",
    "    os.makedirs(output_floder)\n",
    "    \n",
    "def resize(img,scale_percent):\n",
    "#     scale_percent = 30# percent of original size\n",
    "    width = int(img.shape[1] * scale_percent / 100)\n",
    "    height = int(img.shape[0] * scale_percent / 100)\n",
    "    dim = (width, height)\n",
    "    resized = cv2.resize(img, dim, interpolation = cv2.INTER_AREA)\n",
    "    return resized\n"
   ]
  },
  {
   "cell_type": "code",
   "execution_count": 7,
   "id": "875d9789",
   "metadata": {},
   "outputs": [
    {
     "name": "stdout",
     "output_type": "stream",
     "text": [
      "1/8 : resized >> data_raw_resized/IMG_6183.jpg\n",
      "2/8 : resized >> data_raw_resized/IMG_6185.jpg\n",
      "3/8 : resized >> data_raw_resized/IMG_6189.jpg\n",
      "4/8 : resized >> data_raw_resized/IMG_6197.jpg\n",
      "5/8 : resized >> data_raw_resized/IMG_6202.jpg\n",
      "6/8 : resized >> data_raw_resized/IMG_6205.jpg\n",
      "7/8 : resized >> data_raw_resized/IMG_6209.jpg\n",
      "8/8 : resized >> data_raw_resized/IMG_6215.jpg\n"
     ]
    }
   ],
   "source": [
    "dir_list = os.listdir(input_floder)\n",
    "\n",
    "for i,f in enumerate(dir_list):\n",
    "    input_path = f'{input_floder}/{f}'\n",
    "    output_path = f'{output_floder}/{f}'\n",
    "\n",
    "    img = cv2.imread(input_path)\n",
    "\n",
    "    resized = resize(img,scale_percent)\n",
    "    cv2.imwrite(output_path, resized)\n",
    "    \n",
    "    print(f'{i+1}/{len(dir_list)} : resized >> {output_path}')\n",
    "    \n",
    "    "
   ]
  },
  {
   "cell_type": "code",
   "execution_count": null,
   "id": "e00823a7",
   "metadata": {},
   "outputs": [],
   "source": []
  }
 ],
 "metadata": {
  "kernelspec": {
   "display_name": "yolov8",
   "language": "python",
   "name": "yolov8"
  },
  "language_info": {
   "codemirror_mode": {
    "name": "ipython",
    "version": 3
   },
   "file_extension": ".py",
   "mimetype": "text/x-python",
   "name": "python",
   "nbconvert_exporter": "python",
   "pygments_lexer": "ipython3",
   "version": "3.9.16"
  }
 },
 "nbformat": 4,
 "nbformat_minor": 5
}
