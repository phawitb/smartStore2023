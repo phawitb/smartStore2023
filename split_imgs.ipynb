{
 "cells": [
  {
   "cell_type": "code",
   "execution_count": 8,
   "id": "9a9a005e",
   "metadata": {},
   "outputs": [],
   "source": [
    "import os\n",
    "import random\n",
    "import shutil"
   ]
  },
  {
   "cell_type": "code",
   "execution_count": 9,
   "id": "3f6db232",
   "metadata": {},
   "outputs": [],
   "source": [
    "PATH_RAW = 'data_raws'    #-------------------------\n",
    "TARGET_FLODER = 'data'   #-------------------------\n",
    "val_size = 0.2   #-------------------------\n",
    "test_size = 0.1   #-------------------------\n"
   ]
  },
  {
   "cell_type": "code",
   "execution_count": 10,
   "id": "b4ec7b29",
   "metadata": {},
   "outputs": [],
   "source": [
    "paths = [f'{TARGET_FLODER}/train/images',f'{TARGET_FLODER}/val/images',f'{TARGET_FLODER}/test/images',f'{TARGET_FLODER}/train/labels',f'{TARGET_FLODER}/val/labels',f'{TARGET_FLODER}/test/labels']\n",
    "for path in paths:\n",
    "    if not os.path.exists(path):\n",
    "        os.makedirs(path)"
   ]
  },
  {
   "cell_type": "code",
   "execution_count": 11,
   "id": "4f72d7c8",
   "metadata": {},
   "outputs": [
    {
     "data": {
      "text/plain": [
       "45"
      ]
     },
     "execution_count": 11,
     "metadata": {},
     "output_type": "execute_result"
    }
   ],
   "source": [
    "all_imgs = os.listdir(f'{PATH_RAW}/images')\n",
    "len(all_imgs)"
   ]
  },
  {
   "cell_type": "code",
   "execution_count": 12,
   "id": "272b6ae5",
   "metadata": {},
   "outputs": [
    {
     "data": {
      "text/plain": [
       "(9, 4)"
      ]
     },
     "execution_count": 12,
     "metadata": {},
     "output_type": "execute_result"
    }
   ],
   "source": [
    "n_val = int(len(all_imgs)*val_size)\n",
    "n_test = int(len(all_imgs)*test_size)\n",
    "\n",
    "n_val,n_test"
   ]
  },
  {
   "cell_type": "code",
   "execution_count": 13,
   "id": "d445ca8b",
   "metadata": {
    "scrolled": true
   },
   "outputs": [
    {
     "data": {
      "text/plain": [
       "(33, 9, 4)"
      ]
     },
     "execution_count": 13,
     "metadata": {},
     "output_type": "execute_result"
    }
   ],
   "source": [
    "val_imgs = random.choices(all_imgs, k=n_val)\n",
    "train_imgs = set(all_imgs).difference(set(val_imgs))\n",
    "                                    \n",
    "                                       \n",
    "test_imgs = random.choices(list(train_imgs), k=n_test)\n",
    "        \n",
    "train_imgs = train_imgs.difference(set(test_imgs))\n",
    "len(train_imgs),len(val_imgs),len(test_imgs)"
   ]
  },
  {
   "cell_type": "code",
   "execution_count": 14,
   "id": "1ae2d4a5",
   "metadata": {},
   "outputs": [],
   "source": [
    "for f in train_imgs:\n",
    "    shutil.copyfile(f'{PATH_RAW}/images/{f}',f'{TARGET_FLODER}/train/images/{f}')\n",
    "    shutil.copyfile(f'{PATH_RAW}/labels/{f.split(\".\")[0]+\".txt\"}',f'{TARGET_FLODER}/train/labels/{f.split(\".\")[0]+\".txt\"}')\n",
    "    \n",
    "for f in val_imgs:\n",
    "    shutil.copyfile(f'{PATH_RAW}/images/{f}',f'{TARGET_FLODER}/val/images/{f}')\n",
    "    shutil.copyfile(f'{PATH_RAW}/labels/{f.split(\".\")[0]+\".txt\"}',f'{TARGET_FLODER}/val/labels/{f.split(\".\")[0]+\".txt\"}')\n",
    "    \n",
    "for f in test_imgs:\n",
    "    shutil.copyfile(f'{PATH_RAW}/images/{f}',f'{TARGET_FLODER}/test/images/{f}')\n",
    "    shutil.copyfile(f'{PATH_RAW}/labels/{f.split(\".\")[0]+\".txt\"}',f'{TARGET_FLODER}/test/labels/{f.split(\".\")[0]+\".txt\"}')"
   ]
  },
  {
   "cell_type": "code",
   "execution_count": null,
   "id": "4489d42c",
   "metadata": {},
   "outputs": [],
   "source": []
  },
  {
   "cell_type": "code",
   "execution_count": null,
   "id": "902a70c0",
   "metadata": {},
   "outputs": [],
   "source": []
  }
 ],
 "metadata": {
  "kernelspec": {
   "display_name": "yolov8",
   "language": "python",
   "name": "yolov8"
  },
  "language_info": {
   "codemirror_mode": {
    "name": "ipython",
    "version": 3
   },
   "file_extension": ".py",
   "mimetype": "text/x-python",
   "name": "python",
   "nbconvert_exporter": "python",
   "pygments_lexer": "ipython3",
   "version": "3.9.16"
  }
 },
 "nbformat": 4,
 "nbformat_minor": 5
}
